{
 "nbformat": 4,
 "nbformat_minor": 0,
 "metadata": {
  "colab": {
   "provenance": []
  },
  "kernelspec": {
   "name": "python3",
   "display_name": "Python 3"
  },
  "language_info": {
   "name": "python"
  }
 },
 "cells": [
  {
   "cell_type": "markdown",
   "source": [
    "##tuple"
   ],
   "metadata": {
    "id": "HHW6yJKhOzSd",
    "pycharm": {
     "name": "#%% md\n"
    }
   }
  },
  {
   "cell_type": "markdown",
   "source": [
    "Кортеж (tuple) - неизменяемый аналог списков"
   ],
   "metadata": {
    "id": "jAon1gLnVx4a",
    "pycharm": {
     "name": "#%% md\n"
    }
   }
  },
  {
   "cell_type": "code",
   "source": [
    "t = 12345, 54321, 'hello!'\n",
    "t"
   ],
   "metadata": {
    "colab": {
     "base_uri": "https://localhost:8080/"
    },
    "id": "C8DDMf5IPctt",
    "outputId": "5c3ea6ae-c557-4cad-ba61-5f186d2e2941",
    "pycharm": {
     "name": "#%%\n"
    }
   },
   "execution_count": 5,
   "outputs": [
    {
     "data": {
      "text/plain": "(12345, 54321, 'hello!')"
     },
     "execution_count": 5,
     "metadata": {},
     "output_type": "execute_result"
    }
   ]
  },
  {
   "cell_type": "code",
   "source": [
    "t = (12345, 54321, 'hello!')\n",
    "t"
   ],
   "metadata": {
    "colab": {
     "base_uri": "https://localhost:8080/"
    },
    "id": "OCG-UX77VTiE",
    "outputId": "d3f4ae73-5ca6-403c-9d34-ab7a68b0c79e",
    "pycharm": {
     "name": "#%%\n"
    }
   },
   "execution_count": null,
   "outputs": [
    {
     "output_type": "execute_result",
     "data": {
      "text/plain": [
       "(12345, 54321, 'hello!')"
      ]
     },
     "metadata": {},
     "execution_count": 36
    }
   ]
  },
  {
   "cell_type": "markdown",
   "source": [
    "Важно помнить, что кортеж из одного элемента по аналогии со списками нельзя создать только с помощью скобок, нужно еще поставить запятую после элемента"
   ],
   "metadata": {
    "id": "fY8GPPAQVSne",
    "pycharm": {
     "name": "#%% md\n"
    }
   }
  },
  {
   "cell_type": "code",
   "source": [
    "#wrong\n",
    "singleton = ('hello')\n",
    "type(singleton)"
   ],
   "metadata": {
    "colab": {
     "base_uri": "https://localhost:8080/"
    },
    "id": "G_OrTdkvQL-Y",
    "outputId": "71cf0eb3-1dd7-4345-e4ca-dc0d179640b2",
    "pycharm": {
     "name": "#%%\n"
    }
   },
   "execution_count": null,
   "outputs": [
    {
     "output_type": "execute_result",
     "data": {
      "text/plain": [
       "str"
      ]
     },
     "metadata": {},
     "execution_count": 24
    }
   ]
  },
  {
   "cell_type": "code",
   "source": [
    "singleton = ('hello',)\n",
    "type(singleton)"
   ],
   "metadata": {
    "colab": {
     "base_uri": "https://localhost:8080/"
    },
    "id": "gA0uLXMAVmMG",
    "outputId": "7c30f609-511b-4b35-b2b2-3eabb39916a4",
    "pycharm": {
     "name": "#%%\n"
    }
   },
   "execution_count": null,
   "outputs": [
    {
     "output_type": "execute_result",
     "data": {
      "text/plain": [
       "tuple"
      ]
     },
     "metadata": {},
     "execution_count": 1
    }
   ]
  },
  {
   "cell_type": "markdown",
   "source": [
    "Скобки можно убрать"
   ],
   "metadata": {
    "id": "Q7AFG0ssVprc",
    "pycharm": {
     "name": "#%% md\n"
    }
   }
  },
  {
   "cell_type": "code",
   "execution_count": 3,
   "outputs": [
    {
     "data": {
      "text/plain": "tuple"
     },
     "execution_count": 3,
     "metadata": {},
     "output_type": "execute_result"
    }
   ],
   "source": [
    "singleton = 'hello',\n",
    "type(singleton)"
   ],
   "metadata": {
    "collapsed": false,
    "pycharm": {
     "name": "#%%\n"
    }
   }
  },
  {
   "cell_type": "markdown",
   "source": [
    "## set - изменяемый неупорядоченный набор уникальных элементов"
   ],
   "metadata": {
    "id": "DUXR5EAY_zKb",
    "pycharm": {
     "name": "#%% md\n"
    }
   }
  },
  {
   "cell_type": "markdown",
   "source": [
    "Создаем `set` и видим, что он не содержит дубликатов"
   ],
   "metadata": {
    "id": "RoVxHyqmWkx9",
    "pycharm": {
     "name": "#%% md\n"
    }
   }
  },
  {
   "cell_type": "code",
   "source": [
    "s = {'Python', 'C++', 'Python'}\n",
    "s"
   ],
   "metadata": {
    "colab": {
     "base_uri": "https://localhost:8080/"
    },
    "id": "CghHQaT5ABQz",
    "outputId": "8c9c1eb6-047d-43cd-e44e-c6dbc944c78a",
    "pycharm": {
     "name": "#%%\n"
    }
   },
   "execution_count": 4,
   "outputs": [
    {
     "data": {
      "text/plain": "{'C++', 'Python'}"
     },
     "execution_count": 4,
     "metadata": {},
     "output_type": "execute_result"
    }
   ]
  },
  {
   "cell_type": "markdown",
   "source": [
    "С помощью пустых фигурных скобок создается не `set`, а `dict`, пустое множество можно создать только с помощью функции `set`"
   ],
   "metadata": {
    "id": "97uMloDtWPW6",
    "pycharm": {
     "name": "#%% md\n"
    }
   }
  },
  {
   "cell_type": "code",
   "source": [
    "s = {}\n",
    "type(s)"
   ],
   "metadata": {
    "colab": {
     "base_uri": "https://localhost:8080/"
    },
    "id": "-pvUPFhRAPZO",
    "outputId": "893e4bde-5d88-433a-f033-ec22ad1d14ef",
    "pycharm": {
     "name": "#%%\n"
    }
   },
   "execution_count": null,
   "outputs": [
    {
     "output_type": "execute_result",
     "data": {
      "text/plain": [
       "dict"
      ]
     },
     "metadata": {},
     "execution_count": 2
    }
   ]
  },
  {
   "cell_type": "code",
   "source": [
    "s = set()\n",
    "type(s)"
   ],
   "metadata": {
    "colab": {
     "base_uri": "https://localhost:8080/"
    },
    "id": "v4z2bETbAVhg",
    "outputId": "7da9d51d-ae93-4b87-bcdf-287fb28b988e",
    "pycharm": {
     "name": "#%%\n"
    }
   },
   "execution_count": null,
   "outputs": [
    {
     "output_type": "execute_result",
     "data": {
      "text/plain": [
       "set"
      ]
     },
     "metadata": {},
     "execution_count": 3
    }
   ]
  },
  {
   "cell_type": "markdown",
   "source": [
    "C помощью add можно добавлять новые элементы в множество"
   ],
   "metadata": {
    "id": "XVkXy5-XXFL7",
    "pycharm": {
     "name": "#%% md\n"
    }
   }
  },
  {
   "cell_type": "code",
   "source": [
    "s.add('Python')\n",
    "s"
   ],
   "metadata": {
    "colab": {
     "base_uri": "https://localhost:8080/"
    },
    "id": "-PwKWcv1W-xc",
    "outputId": "2a8086d2-0060-4b2a-9c93-f2fbbf83c02a",
    "pycharm": {
     "name": "#%%\n"
    }
   },
   "execution_count": null,
   "outputs": [
    {
     "output_type": "execute_result",
     "data": {
      "text/plain": [
       "{'Python'}"
      ]
     },
     "metadata": {},
     "execution_count": 4
    }
   ]
  },
  {
   "cell_type": "markdown",
   "source": [
    "## frozen set - неизменяемый аналог set"
   ],
   "metadata": {
    "id": "0oSJUaw6AhWr",
    "pycharm": {
     "name": "#%% md\n"
    }
   }
  },
  {
   "cell_type": "code",
   "source": [
    "fs = frozenset({1, 2, 3})\n",
    "fs"
   ],
   "metadata": {
    "colab": {
     "base_uri": "https://localhost:8080/"
    },
    "id": "7rOP0PMkAgtG",
    "outputId": "5961fd69-b339-41e4-d009-d4e4c2b08c2c",
    "pycharm": {
     "name": "#%%\n"
    }
   },
   "execution_count": null,
   "outputs": [
    {
     "output_type": "execute_result",
     "data": {
      "text/plain": [
       "frozenset({1, 2, 3})"
      ]
     },
     "metadata": {},
     "execution_count": 4
    }
   ]
  },
  {
   "cell_type": "markdown",
   "source": [
    "## dict - изменяемый набор данных, который содержит пары ключ значение"
   ],
   "metadata": {
    "id": "K38F8IXv6YCq",
    "pycharm": {
     "name": "#%% md\n"
    }
   }
  },
  {
   "cell_type": "code",
   "source": [
    "d = {'a': 1, 'b': 2, 'c': 3}\n",
    "d"
   ],
   "metadata": {
    "id": "fM2osOKd6Tgf",
    "colab": {
     "base_uri": "https://localhost:8080/"
    },
    "outputId": "f713381b-32e6-43f6-daa4-2066d7483c72",
    "pycharm": {
     "name": "#%%\n"
    }
   },
   "execution_count": null,
   "outputs": [
    {
     "output_type": "execute_result",
     "data": {
      "text/plain": [
       "{'a': 1, 'b': 2, 'c': 3}"
      ]
     },
     "metadata": {},
     "execution_count": 1
    }
   ]
  },
  {
   "cell_type": "markdown",
   "source": [
    "Обращение к элементу по ключу"
   ],
   "metadata": {
    "id": "y5xbZEKLXXNM",
    "pycharm": {
     "name": "#%% md\n"
    }
   }
  },
  {
   "cell_type": "code",
   "source": [
    "d['a']"
   ],
   "metadata": {
    "colab": {
     "base_uri": "https://localhost:8080/"
    },
    "id": "4wr-Tl-mBzTK",
    "outputId": "23a0ba00-5e28-45ea-a179-725f766dace7",
    "pycharm": {
     "name": "#%%\n"
    }
   },
   "execution_count": null,
   "outputs": [
    {
     "output_type": "execute_result",
     "data": {
      "text/plain": [
       "1"
      ]
     },
     "metadata": {},
     "execution_count": 2
    }
   ]
  },
  {
   "cell_type": "markdown",
   "source": [
    "`len` показывает количество пар ключ значение"
   ],
   "metadata": {
    "id": "whOiAzhEXcEN",
    "pycharm": {
     "name": "#%% md\n"
    }
   }
  },
  {
   "cell_type": "code",
   "source": [
    "len(d)"
   ],
   "metadata": {
    "colab": {
     "base_uri": "https://localhost:8080/"
    },
    "id": "6KX7n8H6B170",
    "outputId": "b064ad0a-dff5-44f5-99b2-45de62bce863",
    "pycharm": {
     "name": "#%%\n"
    }
   },
   "execution_count": null,
   "outputs": [
    {
     "output_type": "execute_result",
     "data": {
      "text/plain": [
       "3"
      ]
     },
     "metadata": {},
     "execution_count": 3
    }
   ]
  },
  {
   "cell_type": "markdown",
   "source": [
    "Пустой словарь можно создать двумя способами"
   ],
   "metadata": {
    "id": "NMwT9oRgXPpK",
    "pycharm": {
     "name": "#%% md\n"
    }
   }
  },
  {
   "cell_type": "code",
   "source": [
    "d = {}\n",
    "d"
   ],
   "metadata": {
    "colab": {
     "base_uri": "https://localhost:8080/"
    },
    "id": "blchRlisVywJ",
    "outputId": "a81cacb8-e14c-47b3-b6d7-1f9850fee792",
    "pycharm": {
     "name": "#%%\n"
    }
   },
   "execution_count": null,
   "outputs": [
    {
     "output_type": "execute_result",
     "data": {
      "text/plain": [
       "{}"
      ]
     },
     "metadata": {},
     "execution_count": 5
    }
   ]
  },
  {
   "cell_type": "code",
   "source": [
    "d = dict()\n",
    "d"
   ],
   "metadata": {
    "colab": {
     "base_uri": "https://localhost:8080/"
    },
    "id": "WFUjbYqYV2l2",
    "outputId": "a0019558-50a3-44c5-97ab-6a8cabbf05fb",
    "pycharm": {
     "name": "#%%\n"
    }
   },
   "execution_count": null,
   "outputs": [
    {
     "output_type": "execute_result",
     "data": {
      "text/plain": [
       "{}"
      ]
     },
     "metadata": {},
     "execution_count": 6
    }
   ]
  },
  {
   "cell_type": "code",
   "source": [
    "d['a'] = 1"
   ],
   "metadata": {
    "id": "dAVgJZ8gV469",
    "pycharm": {
     "name": "#%%\n"
    }
   },
   "execution_count": null,
   "outputs": []
  },
  {
   "cell_type": "code",
   "source": [
    "d"
   ],
   "metadata": {
    "colab": {
     "base_uri": "https://localhost:8080/"
    },
    "id": "xOoCIqdDV8c_",
    "outputId": "9264fbcf-8a9d-49c9-8870-cb05e2d1f929",
    "pycharm": {
     "name": "#%%\n"
    }
   },
   "execution_count": null,
   "outputs": [
    {
     "output_type": "execute_result",
     "data": {
      "text/plain": [
       "{'a': 1}"
      ]
     },
     "metadata": {},
     "execution_count": 7
    }
   ]
  },
  {
   "cell_type": "code",
   "source": [],
   "metadata": {
    "id": "IHreSbNpe01L",
    "pycharm": {
     "name": "#%%\n"
    }
   },
   "execution_count": null,
   "outputs": []
  },
  {
   "cell_type": "markdown",
   "metadata": {
    "id": "bpom12T7hoZ7",
    "pycharm": {
     "name": "#%% md\n"
    }
   },
   "source": [
    "# collections - библиотека, которая содержит полезные альтернативы встроенным в питон контайнерам "
   ]
  },
  {
   "cell_type": "markdown",
   "metadata": {
    "id": "lezeEKGnhoas",
    "pycharm": {
     "name": "#%% md\n"
    }
   },
   "source": [
    "## Counter \n",
    "`Counter` - подкласс dict для подсчета объектов, который представляет из себя слова словарь, где ключи - это сами объекты, а значения - их количество. Количество может как положительным, так и отрицательным. "
   ]
  },
  {
   "cell_type": "code",
   "execution_count": null,
   "metadata": {
    "id": "rzWQDSg3hoaw",
    "outputId": "cd5ceb7d-9262-48db-8854-8e5391670b0d",
    "colab": {
     "base_uri": "https://localhost:8080/"
    },
    "pycharm": {
     "name": "#%%\n"
    }
   },
   "outputs": [
    {
     "output_type": "execute_result",
     "data": {
      "text/plain": [
       "Counter({'P': 1,\n",
       "         'r': 2,\n",
       "         'o': 1,\n",
       "         'g': 4,\n",
       "         'a': 3,\n",
       "         'm': 2,\n",
       "         'i': 1,\n",
       "         'n': 2,\n",
       "         ' ': 1,\n",
       "         'l': 1,\n",
       "         'u': 1,\n",
       "         'e': 1,\n",
       "         's': 1})"
      ]
     },
     "metadata": {},
     "execution_count": 8
    }
   ],
   "source": [
    "from collections import Counter\n",
    "\n",
    "Counter('Programming languages')"
   ]
  },
  {
   "cell_type": "code",
   "execution_count": null,
   "metadata": {
    "id": "6LwT9iWEhobE",
    "outputId": "62b622be-400b-4b3d-c37c-ac293703e8a5",
    "colab": {
     "base_uri": "https://localhost:8080/"
    },
    "pycharm": {
     "name": "#%%\n"
    }
   },
   "outputs": [
    {
     "output_type": "execute_result",
     "data": {
      "text/plain": [
       "Counter({'Python': 2, 'C++': 1, 'C': 1, 'Java': 1})"
      ]
     },
     "metadata": {},
     "execution_count": 9
    }
   ],
   "source": [
    "languages = Counter(['Python', 'C++', 'C', 'Java', 'Python'])\n",
    "languages"
   ]
  },
  {
   "cell_type": "markdown",
   "source": [
    "Можно уменьшить количество какого-то элемента с помощью метода subtract"
   ],
   "metadata": {
    "id": "asCHdNfzYBuM",
    "pycharm": {
     "name": "#%% md\n"
    }
   }
  },
  {
   "cell_type": "code",
   "execution_count": null,
   "metadata": {
    "id": "MHLpkQJ_hobc",
    "outputId": "b732f11f-d7a6-468e-9b2c-c17a2f184979",
    "colab": {
     "base_uri": "https://localhost:8080/"
    },
    "pycharm": {
     "name": "#%%\n"
    }
   },
   "outputs": [
    {
     "output_type": "execute_result",
     "data": {
      "text/plain": [
       "Counter({'Python': 1, 'C++': 1, 'C': 1, 'Java': 1})"
      ]
     },
     "metadata": {},
     "execution_count": 10
    }
   ],
   "source": [
    "languages.subtract(['Python'])\n",
    "languages"
   ]
  },
  {
   "cell_type": "markdown",
   "source": [
    "метод most_common помогает находить n самых часто встречающихся элементов"
   ],
   "metadata": {
    "id": "kmVsz4J-Xvkj",
    "pycharm": {
     "name": "#%% md\n"
    }
   }
  },
  {
   "cell_type": "code",
   "execution_count": null,
   "metadata": {
    "id": "UNt4icgchobq",
    "outputId": "24bc00f4-2934-4d74-a630-268c760f6b15",
    "colab": {
     "base_uri": "https://localhost:8080/"
    },
    "pycharm": {
     "name": "#%%\n"
    }
   },
   "outputs": [
    {
     "output_type": "execute_result",
     "data": {
      "text/plain": [
       "[(' ', 13), ('e', 10), ('t', 10)]"
      ]
     },
     "metadata": {},
     "execution_count": 11
    }
   ],
   "source": [
    "Counter('we want to know three symbols that are the most frequent in this sentence').most_common(3)"
   ]
  },
  {
   "cell_type": "markdown",
   "metadata": {
    "id": "V5LP3IRuhocX",
    "pycharm": {
     "name": "#%% md\n"
    }
   },
   "source": [
    "## defaultdict\n",
    "`defaultdict` - dict, позволяющий задавать значения по умолчению"
   ]
  },
  {
   "cell_type": "markdown",
   "source": [
    "Пусть мы хотим найти для каждого имени в списке индексы, на которых оно встречается. Попробуем решить эту задачу с помощью стандартного словаря."
   ],
   "metadata": {
    "id": "wh-F60LXZPDH",
    "pycharm": {
     "name": "#%% md\n"
    }
   }
  },
  {
   "cell_type": "code",
   "execution_count": null,
   "metadata": {
    "id": "mUfetrpHhocb",
    "outputId": "ee559030-cf91-4558-c4a3-b8245185f9b2",
    "colab": {
     "base_uri": "https://localhost:8080/"
    },
    "pycharm": {
     "name": "#%%\n"
    }
   },
   "outputs": [
    {
     "output_type": "execute_result",
     "data": {
      "text/plain": [
       "{'Max': [0, 2, 6], 'Anna': [1, 4], 'Sonya': [3], 'Victoria': [5]}"
      ]
     },
     "metadata": {},
     "execution_count": 12
    }
   ],
   "source": [
    "names = ['Max', 'Anna', 'Max', 'Sonya', 'Anna', 'Victoria', 'Max']\n",
    "d = {}\n",
    "\n",
    "for i in range(len(names)):\n",
    "    if names[i] not in d:\n",
    "        d[names[i]] = []\n",
    "    d[names[i]].append(i)\n",
    "\n",
    "d"
   ]
  },
  {
   "cell_type": "markdown",
   "source": [
    "Но ту же задачу можно решить короче с помощью `default dict`, который позволяет задавать значения по умолчанию для ключей, то есть если мы еще ничего не добавили в словарь по этому ключу, то, если мы обратимся к этому ключу, то получим наше значение по умолчанию."
   ],
   "metadata": {
    "id": "iMmdQgfRZoSC",
    "pycharm": {
     "name": "#%% md\n"
    }
   }
  },
  {
   "cell_type": "code",
   "execution_count": null,
   "metadata": {
    "id": "g0qC602Thocm",
    "outputId": "491ae236-afcd-4523-e34c-30e5890f1508",
    "colab": {
     "base_uri": "https://localhost:8080/"
    },
    "pycharm": {
     "name": "#%%\n"
    }
   },
   "outputs": [
    {
     "output_type": "execute_result",
     "data": {
      "text/plain": [
       "defaultdict(list,\n",
       "            {'Max': [0, 2, 6], 'Anna': [1, 4], 'Sonya': [3], 'Victoria': [5]})"
      ]
     },
     "metadata": {},
     "execution_count": 13
    }
   ],
   "source": [
    "from collections import defaultdict\n",
    "\n",
    "d = defaultdict(list)\n",
    "\n",
    "for i in range(len(names)):\n",
    "    d[names[i]].append(i)\n",
    "\n",
    "d"
   ]
  },
  {
   "cell_type": "markdown",
   "metadata": {
    "id": "bsJR65Vchoct",
    "pycharm": {
     "name": "#%% md\n"
    }
   },
   "source": [
    "## OrderedDict"
   ]
  },
  {
   "cell_type": "markdown",
   "source": [
    "`ordered dict` хранит ключи в том порядке, в котором их добавили, стандратный словарь не гарантирует какого-то определенного порядка элементов"
   ],
   "metadata": {
    "id": "GFBFMbvbaLOs",
    "pycharm": {
     "name": "#%% md\n"
    }
   }
  },
  {
   "cell_type": "code",
   "execution_count": null,
   "metadata": {
    "id": "bufcNWQShoc7",
    "outputId": "79dc3aa2-4835-4c66-9734-c39f96307e45",
    "colab": {
     "base_uri": "https://localhost:8080/"
    },
    "pycharm": {
     "name": "#%%\n"
    }
   },
   "outputs": [
    {
     "output_type": "execute_result",
     "data": {
      "text/plain": [
       "OrderedDict([('d', None), ('c', None), ('a', None), ('b', None), ('e', None)])"
      ]
     },
     "metadata": {},
     "execution_count": 14
    }
   ],
   "source": [
    "from collections import OrderedDict\n",
    "\n",
    "d = OrderedDict.fromkeys('dcabe')\n",
    "d"
   ]
  },
  {
   "cell_type": "markdown",
   "source": [
    "Также можно менять порядок ключей, в частности перемещать ключ в начало или в конец"
   ],
   "metadata": {
    "id": "VJtDtPIQag_c",
    "pycharm": {
     "name": "#%% md\n"
    }
   }
  },
  {
   "cell_type": "code",
   "execution_count": null,
   "metadata": {
    "id": "Q5f58mFNhodH",
    "outputId": "3836add1-45d2-40e0-e9a3-6dd95509d8a3",
    "colab": {
     "base_uri": "https://localhost:8080/",
     "height": 35
    },
    "pycharm": {
     "name": "#%%\n"
    }
   },
   "outputs": [
    {
     "output_type": "execute_result",
     "data": {
      "text/plain": [
       "'bdcae'"
      ],
      "application/vnd.google.colaboratory.intrinsic+json": {
       "type": "string"
      }
     },
     "metadata": {},
     "execution_count": 15
    }
   ],
   "source": [
    "d.move_to_end('b', last=False)\n",
    "''.join(d)"
   ]
  },
  {
   "cell_type": "code",
   "source": [
    "d.move_to_end('b', last=True)\n",
    "''.join(d)"
   ],
   "metadata": {
    "colab": {
     "base_uri": "https://localhost:8080/",
     "height": 35
    },
    "id": "UgVA9xQsu6jA",
    "outputId": "d4e12993-0ed0-4fce-bd08-101ddde7604b",
    "pycharm": {
     "name": "#%%\n"
    }
   },
   "execution_count": null,
   "outputs": [
    {
     "output_type": "execute_result",
     "data": {
      "text/plain": [
       "'dcaeb'"
      ],
      "application/vnd.google.colaboratory.intrinsic+json": {
       "type": "string"
      }
     },
     "metadata": {},
     "execution_count": 16
    }
   ]
  },
  {
   "cell_type": "markdown",
   "metadata": {
    "id": "Am4q1pQHhodO",
    "pycharm": {
     "name": "#%% md\n"
    }
   },
   "source": [
    "## deque"
   ]
  },
  {
   "cell_type": "markdown",
   "source": [
    "`list` можно использовать в качестве стэка, он имеет методы append и pop, которые соотвественно позволяют вставлять и удалять элементы из конца списка. Однако операция удаления из начала списка работает очень медленно (приходится сдвигать все элементы списка на один индекс назад если кратко), поэтому `list` не используют в качестве очереди, в качестве очереди можно, например, использовать deque из модуля collections."
   ],
   "metadata": {
    "id": "_UAozlL9aqA5",
    "pycharm": {
     "name": "#%% md\n"
    }
   }
  },
  {
   "cell_type": "markdown",
   "metadata": {
    "id": "d8YgUwAOhodY",
    "pycharm": {
     "name": "#%% md\n"
    }
   },
   "source": [
    "`deque` - реализация одновременно стэка и очереди (double-ended queue). Имеет параметр maxlen, который ограничивает максимальный размер deque, при добавлении нового элемента, когда deque заполнен, последний элемент удаляется с противоположного конца.  "
   ]
  },
  {
   "cell_type": "markdown",
   "source": [
    "Ниже `deque` использовать как очередь, метод append позволяет добавлять элементы в конец, popleft - удалять из начала"
   ],
   "metadata": {
    "id": "2Ir93i6Eby6D",
    "pycharm": {
     "name": "#%% md\n"
    }
   }
  },
  {
   "cell_type": "code",
   "execution_count": null,
   "metadata": {
    "id": "odLIYr2Ghoda",
    "outputId": "4603eefb-6170-4cc9-da7e-35cdb91b0c1d",
    "colab": {
     "base_uri": "https://localhost:8080/"
    },
    "pycharm": {
     "name": "#%%\n"
    }
   },
   "outputs": [
    {
     "output_type": "execute_result",
     "data": {
      "text/plain": [
       "deque([1, 2, 3])"
      ]
     },
     "metadata": {},
     "execution_count": 17
    }
   ],
   "source": [
    "from collections import deque\n",
    "\n",
    "queue = deque(maxlen=3)\n",
    "queue.append(1)\n",
    "queue.append(2)\n",
    "queue.append(3)\n",
    "queue"
   ]
  },
  {
   "cell_type": "code",
   "execution_count": null,
   "metadata": {
    "id": "jK9K-cpghodn",
    "outputId": "e03ea8d0-1d8f-44ce-e02a-b3af5ab75d6c",
    "colab": {
     "base_uri": "https://localhost:8080/"
    },
    "pycharm": {
     "name": "#%%\n"
    }
   },
   "outputs": [
    {
     "output_type": "execute_result",
     "data": {
      "text/plain": [
       "(1, 2)"
      ]
     },
     "metadata": {},
     "execution_count": 18
    }
   ],
   "source": [
    "queue.popleft(), queue.popleft()"
   ]
  },
  {
   "cell_type": "code",
   "execution_count": null,
   "metadata": {
    "id": "I0rjG4Uohods",
    "outputId": "d02be696-35c6-41e1-bb0a-8050e0277ec4",
    "colab": {
     "base_uri": "https://localhost:8080/"
    },
    "pycharm": {
     "name": "#%%\n"
    }
   },
   "outputs": [
    {
     "output_type": "execute_result",
     "data": {
      "text/plain": [
       "deque([2, 3, 4])"
      ]
     },
     "metadata": {},
     "execution_count": 19
    }
   ],
   "source": [
    "queue.append(1)\n",
    "queue.append(2)\n",
    "queue.append(3)\n",
    "queue.append(4)\n",
    "queue"
   ]
  }
 ]
}