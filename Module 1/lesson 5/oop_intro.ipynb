{
  "nbformat": 4,
  "nbformat_minor": 0,
  "metadata": {
    "colab": {
      "provenance": []
    },
    "kernelspec": {
      "name": "python3",
      "display_name": "Python 3"
    },
    "language_info": {
      "name": "python"
    }
  },
  "cells": [
    {
      "cell_type": "markdown",
      "source": [
        "# Введение в ООП"
      ],
      "metadata": {
        "id": "8vDyc6cqTzKl"
      }
    },
    {
      "cell_type": "markdown",
      "source": [
        "Класс — тип, описывающий устройство объектов. Объект — это экземпляр класса. Класс можно сравнить с чертежом, по которому создаются объекты. Класс описывает, какие методы и атрибуты присущи объектам этого класса."
      ],
      "metadata": {
        "id": "MqG-wBPcpKAM"
      }
    },
    {
      "cell_type": "code",
      "source": [
        "class Person:\n",
        " \n",
        "    # init method or constructor\n",
        "    def __init__(self, name):\n",
        "        self.name = name\n",
        "\n",
        "    def say_hi(self):\n",
        "        print('Hello, my name is', self.name)\n"
      ],
      "metadata": {
        "id": "X2h4Vlriis5C"
      },
      "execution_count": null,
      "outputs": []
    },
    {
      "cell_type": "code",
      "source": [
        "person1 = Person(\"Tom\")\n",
        "person2 = Person(\"Mary\")\n",
        "person1.name"
      ],
      "metadata": {
        "colab": {
          "base_uri": "https://localhost:8080/",
          "height": 35
        },
        "id": "WfUuZAW0qMYT",
        "outputId": "4d7f5675-6848-4b05-cf50-00f88a18f418"
      },
      "execution_count": null,
      "outputs": [
        {
          "output_type": "execute_result",
          "data": {
            "text/plain": [
              "'Tom'"
            ],
            "application/vnd.google.colaboratory.intrinsic+json": {
              "type": "string"
            }
          },
          "metadata": {},
          "execution_count": 21
        }
      ]
    },
    {
      "cell_type": "code",
      "source": [
        "person1.say_hi()"
      ],
      "metadata": {
        "colab": {
          "base_uri": "https://localhost:8080/"
        },
        "id": "5q_i8L0Zqe65",
        "outputId": "4fa40694-9267-4730-8b7b-5c93061d5a59"
      },
      "execution_count": null,
      "outputs": [
        {
          "output_type": "stream",
          "name": "stdout",
          "text": [
            "Hello, my name is Tom\n"
          ]
        }
      ]
    },
    {
      "cell_type": "code",
      "source": [
        "person2.say_hi()"
      ],
      "metadata": {
        "colab": {
          "base_uri": "https://localhost:8080/"
        },
        "id": "65_m7XYCtUdg",
        "outputId": "146eaf2a-6f3b-4ce3-f02d-860d06c529de"
      },
      "execution_count": null,
      "outputs": [
        {
          "output_type": "stream",
          "name": "stdout",
          "text": [
            "Hello, my name is Mary\n"
          ]
        }
      ]
    },
    {
      "cell_type": "markdown",
      "source": [
        "С помощью метода \\_\\_init\\_\\_ определяются атрибуты при инициализации экземпляра класса. Методы записываются как функции, только внутри класса. Первым аргументом в методе экземпляра принимается сам экземпляр (то есть self). Важно помнить, что все методы первым аргументом принимают экземляр класса, который принято называть self. Если вы дадите другое название, то ничего не сломается. Но пожалуйста не делайте так. Методы с двумя нижними подчеркиваниями до и после названия называются магическими. Они отвечают за какие-то базовые вещи."
      ],
      "metadata": {
        "id": "JG-m7hY1rpW_"
      }
    },
    {
      "cell_type": "markdown",
      "source": [
        "Python разделяет атрибуты класса и атрибуты экземпляра."
      ],
      "metadata": {
        "id": "YEyzMWwduHx2"
      }
    },
    {
      "cell_type": "code",
      "source": [
        "class A:\n",
        "  #атрибут класса\n",
        "  count = 0\n",
        "  def __init__(self):\n",
        "      A.count += 1\n",
        "\n",
        "a1 = A()\n",
        "a2 = A()\n",
        "A.count"
      ],
      "metadata": {
        "colab": {
          "base_uri": "https://localhost:8080/"
        },
        "id": "axe-IhluqoJt",
        "outputId": "2a9b1058-ebb1-47c1-d84e-5ad281d2493c"
      },
      "execution_count": null,
      "outputs": [
        {
          "output_type": "execute_result",
          "data": {
            "text/plain": [
              "2"
            ]
          },
          "metadata": {},
          "execution_count": 24
        }
      ]
    },
    {
      "cell_type": "markdown",
      "source": [
        "Eсли у экземпляра есть свой атрибут, то ему отдается предпочтение"
      ],
      "metadata": {
        "id": "1ft5nGnsuonr"
      }
    },
    {
      "cell_type": "code",
      "source": [
        "class B:\n",
        "    count = 0\n",
        "    def __init__(self, count):\n",
        "        self.count = count\n",
        "        \n",
        "b = B(10)\n",
        "b.count"
      ],
      "metadata": {
        "colab": {
          "base_uri": "https://localhost:8080/"
        },
        "id": "TqNzM91EufPh",
        "outputId": "0aa4260e-57d9-4967-9067-4a4e896d89b9"
      },
      "execution_count": null,
      "outputs": [
        {
          "output_type": "execute_result",
          "data": {
            "text/plain": [
              "10"
            ]
          },
          "metadata": {},
          "execution_count": 25
        }
      ]
    },
    {
      "cell_type": "markdown",
      "source": [
        "Теперь посмотрим на атрибут класса"
      ],
      "metadata": {
        "id": "Du2APhVCuyTn"
      }
    },
    {
      "cell_type": "code",
      "source": [
        "B.count"
      ],
      "metadata": {
        "colab": {
          "base_uri": "https://localhost:8080/"
        },
        "id": "zPfXW0WjuvQ-",
        "outputId": "22daca62-11b9-4fb1-c65c-bdc117991c7d"
      },
      "execution_count": null,
      "outputs": [
        {
          "output_type": "execute_result",
          "data": {
            "text/plain": [
              "0"
            ]
          },
          "metadata": {},
          "execution_count": 26
        }
      ]
    },
    {
      "cell_type": "markdown",
      "source": [
        "## Связанные и несвязанные методы"
      ],
      "metadata": {
        "id": "O5OdYiKnwetu"
      }
    },
    {
      "cell_type": "code",
      "source": [
        "# связанный метод\n",
        "person1.say_hi()"
      ],
      "metadata": {
        "colab": {
          "base_uri": "https://localhost:8080/"
        },
        "id": "I9Uy0wUmwZmK",
        "outputId": "86d2cb29-6331-49da-fc21-35b58c091f29"
      },
      "execution_count": null,
      "outputs": [
        {
          "output_type": "stream",
          "name": "stdout",
          "text": [
            "Hello, my name is Tom\n"
          ]
        }
      ]
    },
    {
      "cell_type": "code",
      "source": [
        "# Несвязанный метод\n",
        "Person.say_hi(person1)"
      ],
      "metadata": {
        "colab": {
          "base_uri": "https://localhost:8080/"
        },
        "id": "UgI9VzhUuxWz",
        "outputId": "97b10548-aca9-4a22-ab51-a76608179c95"
      },
      "execution_count": null,
      "outputs": [
        {
          "output_type": "stream",
          "name": "stdout",
          "text": [
            "Hello, my name is Tom\n"
          ]
        }
      ]
    },
    {
      "cell_type": "markdown",
      "source": [
        "## staticmethod"
      ],
      "metadata": {
        "id": "OK_sZx09xuHG"
      }
    },
    {
      "cell_type": "code",
      "source": [
        "class Calculator:\n",
        "  \n",
        "  def add(self, x, y):\n",
        "    return x + y"
      ],
      "metadata": {
        "id": "_KS-_BHyv-jE"
      },
      "execution_count": null,
      "outputs": []
    },
    {
      "cell_type": "code",
      "source": [
        "calculator = Calculator()\n",
        "calculator.add(2, 7)"
      ],
      "metadata": {
        "colab": {
          "base_uri": "https://localhost:8080/"
        },
        "id": "8bVilyQ5yFaS",
        "outputId": "106304b0-cf57-4cd0-92ac-3bb5bbd8c640"
      },
      "execution_count": null,
      "outputs": [
        {
          "output_type": "execute_result",
          "data": {
            "text/plain": [
              "9"
            ]
          },
          "metadata": {},
          "execution_count": 30
        }
      ]
    },
    {
      "cell_type": "code",
      "source": [
        "class Calculator:\n",
        "  @staticmethod\n",
        "  def add(x, y):\n",
        "    return x + y"
      ],
      "metadata": {
        "id": "86lcs5iVyOEV"
      },
      "execution_count": null,
      "outputs": []
    },
    {
      "cell_type": "code",
      "source": [
        "calculator = Calculator()\n",
        "calculator.add(2, 7)"
      ],
      "metadata": {
        "colab": {
          "base_uri": "https://localhost:8080/"
        },
        "id": "BNACOQ5i0PRs",
        "outputId": "1c290bff-d702-47be-abea-239e93d740c7"
      },
      "execution_count": null,
      "outputs": [
        {
          "output_type": "execute_result",
          "data": {
            "text/plain": [
              "9"
            ]
          },
          "metadata": {},
          "execution_count": 32
        }
      ]
    },
    {
      "cell_type": "code",
      "source": [
        "Calculator.add(2, 7)"
      ],
      "metadata": {
        "colab": {
          "base_uri": "https://localhost:8080/"
        },
        "id": "6Q8anPUL0S8B",
        "outputId": "7f865ccf-cfe5-4909-ca59-e15df7c56bef"
      },
      "execution_count": null,
      "outputs": [
        {
          "output_type": "execute_result",
          "data": {
            "text/plain": [
              "9"
            ]
          },
          "metadata": {},
          "execution_count": 33
        }
      ]
    },
    {
      "cell_type": "markdown",
      "source": [
        "## classmethod"
      ],
      "metadata": {
        "id": "69FEsmX901uR"
      }
    },
    {
      "cell_type": "markdown",
      "source": [
        "classmethod - это метод получающий класс в качестве первого аргумента"
      ],
      "metadata": {
        "id": "V3crJMLM18GJ"
      }
    },
    {
      "cell_type": "code",
      "source": [
        "from datetime import date\n",
        "\n",
        "class Person:\n",
        "    def __init__(self, name, age):\n",
        "        self.name = name\n",
        "        self.age = age\n",
        "\n",
        "    @classmethod\n",
        "    def fromBirthYear(cls, name, birthYear):\n",
        "        return cls(name, date.today().year - birthYear)\n",
        "    \n",
        "    def display(self):\n",
        "        print(f\"{self.name} 's age is {str(self.age)}\")"
      ],
      "metadata": {
        "id": "Ixv04AmO0cAS"
      },
      "execution_count": null,
      "outputs": []
    },
    {
      "cell_type": "code",
      "source": [
        "person = Person('Adam', 19)\n",
        "person.display()"
      ],
      "metadata": {
        "colab": {
          "base_uri": "https://localhost:8080/"
        },
        "id": "209JNoM11Z3D",
        "outputId": "e5a7cee6-90e1-4df5-ffb6-d82ec4fd3916"
      },
      "execution_count": null,
      "outputs": [
        {
          "output_type": "stream",
          "name": "stdout",
          "text": [
            "Adam 's age is 19\n"
          ]
        }
      ]
    },
    {
      "cell_type": "code",
      "source": [
        "person1 = Person.fromBirthYear('John',  1995)\n",
        "person1.display()"
      ],
      "metadata": {
        "colab": {
          "base_uri": "https://localhost:8080/"
        },
        "id": "fASnaCUv1bYs",
        "outputId": "c0031ad7-5ba0-4d71-9f7c-11f5d2e8c943"
      },
      "execution_count": null,
      "outputs": [
        {
          "output_type": "stream",
          "name": "stdout",
          "text": [
            "John 's age is 27\n"
          ]
        }
      ]
    },
    {
      "cell_type": "markdown",
      "source": [
        "## Наследование"
      ],
      "metadata": {
        "id": "62mfkKReCOi4"
      }
    },
    {
      "cell_type": "code",
      "source": [
        "class Employee(Person):\n",
        "  def __init__(self, name, age, post):\n",
        "    self.name = name\n",
        "    self.age = age\n",
        "    self.post = post\n",
        "\n",
        "employee = Employee(\"Tom\", 25, \"Python Developer\")"
      ],
      "metadata": {
        "id": "Dkwkp5DN1eCy"
      },
      "execution_count": null,
      "outputs": []
    },
    {
      "cell_type": "code",
      "source": [
        "employee.display()"
      ],
      "metadata": {
        "colab": {
          "base_uri": "https://localhost:8080/"
        },
        "id": "WXrAR0xXCqBr",
        "outputId": "dfc58b01-484f-4010-dda5-c7792b1ab4e1"
      },
      "execution_count": null,
      "outputs": [
        {
          "output_type": "stream",
          "name": "stdout",
          "text": [
            "Tom 's age is 25\n"
          ]
        }
      ]
    },
    {
      "cell_type": "markdown",
      "source": [
        "Хочется с одной стороны использовать \\_\\_init__ отнаследованного класса. С другой стороны хочется его дописать. Это можно реализовать с помощью функции super. Эта функция позволяет достучаться до метода реализованного в родитесьском классе."
      ],
      "metadata": {
        "id": "JxNoXjq1C4Se"
      }
    },
    {
      "cell_type": "code",
      "source": [
        "class Employee(Person):\n",
        "  def __init__(self, name, age, post):\n",
        "    super().__init__(name, age)\n",
        "    self.post = post\n",
        "\n",
        "employee = Employee(\"Tom\", 25, \"Python Developer\")\n",
        "employee.display()\n",
        "employee.post"
      ],
      "metadata": {
        "colab": {
          "base_uri": "https://localhost:8080/",
          "height": 53
        },
        "id": "qU0zFdH0CuQE",
        "outputId": "2ea7ca0c-7fa6-4bd5-ceb7-349964737d7a"
      },
      "execution_count": null,
      "outputs": [
        {
          "output_type": "stream",
          "name": "stdout",
          "text": [
            "Tom 's age is 25\n"
          ]
        },
        {
          "output_type": "execute_result",
          "data": {
            "text/plain": [
              "'Python Developer'"
            ],
            "application/vnd.google.colaboratory.intrinsic+json": {
              "type": "string"
            }
          },
          "metadata": {},
          "execution_count": 39
        }
      ]
    },
    {
      "cell_type": "code",
      "source": [
        "class Employee(Person):\n",
        "  def __init__(self, name, age, post):\n",
        "    super().__init__(name, age)\n",
        "    self.post = post\n",
        "\n",
        "  def display(self):\n",
        "    super().display()\n",
        "    print(f'{self.name} is {self.post}')\n",
        "      \n",
        "\n",
        "employee = Employee(\"Tom\", 25, \"Python Developer\")\n",
        "employee.display()"
      ],
      "metadata": {
        "colab": {
          "base_uri": "https://localhost:8080/"
        },
        "id": "z1fG5Q87DD7b",
        "outputId": "1d7f8581-bb55-4db4-8d2b-0dc0aa141a71"
      },
      "execution_count": null,
      "outputs": [
        {
          "output_type": "stream",
          "name": "stdout",
          "text": [
            "Tom 's age is 25\n",
            "Tom is Python Developer\n"
          ]
        }
      ]
    },
    {
      "cell_type": "code",
      "source": [
        "n, m = 4, 5\n",
        "matrix = [[0] * n for _ in range(m)]\n",
        "\n",
        "dx, dy = 0, 1\n",
        "x, y = 0, 0\n",
        "\n",
        "for i in range(1, n*m + 1):\n",
        "  matrix[x][y] = i\n",
        "  if x + dx >= m or y + dy >= n or matrix[x + dx][y+ dy] != 0:\n",
        "    dx, dy = dy, -dx\n",
        "  x += dx\n",
        "  y += dy\n",
        "\n",
        "for elem in matrix:\n",
        "  print(elem)"
      ],
      "metadata": {
        "colab": {
          "base_uri": "https://localhost:8080/"
        },
        "id": "fYu1-Kb0l2PJ",
        "outputId": "7b21fc45-ef1f-42b0-b5e0-bb9576753f3d"
      },
      "execution_count": null,
      "outputs": [
        {
          "output_type": "stream",
          "name": "stdout",
          "text": [
            "[1, 2, 3, 4]\n",
            "[14, 15, 16, 5]\n",
            "[13, 20, 17, 6]\n",
            "[12, 19, 18, 7]\n",
            "[11, 10, 9, 8]\n"
          ]
        }
      ]
    },
    {
      "cell_type": "code",
      "source": [],
      "metadata": {
        "id": "RNNul0CnnBux"
      },
      "execution_count": null,
      "outputs": []
    }
  ]
}