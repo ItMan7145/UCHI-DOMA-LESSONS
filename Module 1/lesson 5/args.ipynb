{
  "nbformat": 4,
  "nbformat_minor": 0,
  "metadata": {
    "colab": {
      "provenance": []
    },
    "kernelspec": {
      "name": "python3",
      "display_name": "Python 3"
    },
    "language_info": {
      "name": "python"
    }
  },
  "cells": [
    {
      "cell_type": "markdown",
      "metadata": {
        "id": "ozPKPsfAhod_"
      },
      "source": [
        "# \\*args и \\**kwargs"
      ]
    },
    {
      "cell_type": "markdown",
      "metadata": {
        "id": "k0xzT45FhoeA"
      },
      "source": [
        "##Позиционные и именованные аргументы"
      ]
    },
    {
      "cell_type": "code",
      "source": [
        "def printThese(a, b=2, c=3):\n",
        "   print(a, \"is stored in a\")\n",
        "   print(b, \"is stored in b\")\n",
        "   print(c, \"is stored in c\")\n",
        "printThese(10, 20, 30)"
      ],
      "metadata": {
        "colab": {
          "base_uri": "https://localhost:8080/"
        },
        "id": "uupRKRMmpBfV",
        "outputId": "d5aaa80e-a155-41cb-d5ff-a6acd0c8110b"
      },
      "execution_count": null,
      "outputs": [
        {
          "output_type": "stream",
          "name": "stdout",
          "text": [
            "10 is stored in a\n",
            "20 is stored in b\n",
            "30 is stored in c\n"
          ]
        }
      ]
    },
    {
      "cell_type": "markdown",
      "source": [
        "Если нас устраивает значение b по умолчанию, то нам по сути придется продублировать его значение в вызове функции, можно избежать этого с помощью именованных аргументов: задать значение для c явно, а значение для b не указывать."
      ],
      "metadata": {
        "id": "IHLAkuhzckgF"
      }
    },
    {
      "cell_type": "code",
      "execution_count": null,
      "metadata": {
        "id": "iqAKj6Y-hoeA",
        "outputId": "bb2f8c9f-904b-4e1b-8c87-0d5fda2dfcbb",
        "colab": {
          "base_uri": "https://localhost:8080/"
        }
      },
      "outputs": [
        {
          "output_type": "stream",
          "name": "stdout",
          "text": [
            "10 is stored in a\n",
            "2 is stored in b\n",
            "5 is stored in c\n"
          ]
        }
      ],
      "source": [
        "printThese(10, c=5)"
      ]
    },
    {
      "cell_type": "markdown",
      "source": [
        "## args"
      ],
      "metadata": {
        "id": "pTETm97WdUqe"
      }
    },
    {
      "cell_type": "markdown",
      "metadata": {
        "id": "NFYDwe2Lhoeg"
      },
      "source": [
        "*args позваляет передавать нефиксированное количество неименованных аргументов. Можно называть не только args, но это название уже стало общепринятым."
      ]
    },
    {
      "cell_type": "code",
      "execution_count": null,
      "metadata": {
        "id": "GRPd-BeRhoem",
        "outputId": "1cc0e4b6-94b1-405c-c1d8-cc5d0198963e",
        "colab": {
          "base_uri": "https://localhost:8080/"
        }
      },
      "outputs": [
        {
          "output_type": "execute_result",
          "data": {
            "text/plain": [
              "21"
            ]
          },
          "metadata": {},
          "execution_count": 18
        }
      ],
      "source": [
        "def my_sum(*args):\n",
        "  res = 0\n",
        "  for elem in args:\n",
        "    res += elem\n",
        "  return res\n",
        "\n",
        "my_sum(1, 2, 3, 4, 5, 6)"
      ]
    },
    {
      "cell_type": "markdown",
      "source": [
        "args представляет из себя кортеж"
      ],
      "metadata": {
        "id": "naxGiP_UdMhZ"
      }
    },
    {
      "cell_type": "code",
      "source": [
        "def my_sum(*args):\n",
        "  res = 0\n",
        "  for elem in args:\n",
        "    res += elem\n",
        "  print('args:', args)\n",
        "  print('args type:', type(args))\n",
        "  return res\n",
        "\n",
        "my_sum(1, 2, 3, 4, 5, 6)"
      ],
      "metadata": {
        "colab": {
          "base_uri": "https://localhost:8080/"
        },
        "id": "TSVpKUTAEhT5",
        "outputId": "04b45a52-962e-4188-b729-9b4f109a514d"
      },
      "execution_count": null,
      "outputs": [
        {
          "output_type": "stream",
          "name": "stdout",
          "text": [
            "args: (1, 2, 3, 4, 5, 6)\n",
            "args type: <class 'tuple'>\n"
          ]
        },
        {
          "output_type": "execute_result",
          "data": {
            "text/plain": [
              "21"
            ]
          },
          "metadata": {},
          "execution_count": 19
        }
      ]
    },
    {
      "cell_type": "markdown",
      "source": [
        "\n",
        "Оператор * позволяет «распаковывать» объекты, внутри которых хранятся некие элементы."
      ],
      "metadata": {
        "id": "6BN_CG7XEQfc"
      }
    },
    {
      "cell_type": "code",
      "source": [
        "a = [1,2,3]\n",
        "b = [*a,4,5,6]\n",
        "b"
      ],
      "metadata": {
        "colab": {
          "base_uri": "https://localhost:8080/"
        },
        "id": "-49u1mvVETlS",
        "outputId": "8829848c-289b-49a0-ec09-d34abb91ab37"
      },
      "execution_count": null,
      "outputs": [
        {
          "output_type": "execute_result",
          "data": {
            "text/plain": [
              "[1, 2, 3, 4, 5, 6]"
            ]
          },
          "metadata": {},
          "execution_count": 20
        }
      ]
    },
    {
      "cell_type": "markdown",
      "metadata": {
        "id": "brOGt0rchoeu"
      },
      "source": [
        "Как еще можно использовать звездочку?"
      ]
    },
    {
      "cell_type": "code",
      "execution_count": null,
      "metadata": {
        "id": "0YO1-4yzhoeu",
        "outputId": "26a390e5-3e61-4105-8fb0-12bea0266bd1",
        "colab": {
          "base_uri": "https://localhost:8080/"
        }
      },
      "outputs": [
        {
          "output_type": "execute_result",
          "data": {
            "text/plain": [
              "(1, 5)"
            ]
          },
          "metadata": {},
          "execution_count": 21
        }
      ],
      "source": [
        "x, *_, y = (1, 2, 3, 4, 5)\n",
        "x, y"
      ]
    },
    {
      "cell_type": "code",
      "execution_count": null,
      "metadata": {
        "id": "YaMDbAlAhoev",
        "outputId": "8cc13fc2-016f-41ea-e8db-1dd115589101",
        "colab": {
          "base_uri": "https://localhost:8080/"
        }
      },
      "outputs": [
        {
          "output_type": "execute_result",
          "data": {
            "text/plain": [
              "(1, 2)"
            ]
          },
          "metadata": {},
          "execution_count": 22
        }
      ],
      "source": [
        "x, y, *_ = (1, 2, 3, 4, 5)\n",
        "x, y"
      ]
    },
    {
      "cell_type": "markdown",
      "source": [
        "## kwargs"
      ],
      "metadata": {
        "id": "Lysp-1rRdYxD"
      }
    },
    {
      "cell_type": "markdown",
      "metadata": {
        "id": "mnxVVJdyhoew"
      },
      "source": [
        "\\*\\*kwargs позваляет передавать нефиксированное количество именованных аргументов. Можно называть не только kwargs, но это название уже стало общепринятым. Звездочки собирают все значения вместе в словарь, где ключ это название переменной, а значение это значение переменной."
      ]
    },
    {
      "cell_type": "code",
      "execution_count": null,
      "metadata": {
        "id": "U0SfjVMAhoe0",
        "outputId": "176f75e8-de95-46cb-ed73-da1b122af49e",
        "colab": {
          "base_uri": "https://localhost:8080/"
        }
      },
      "outputs": [
        {
          "output_type": "stream",
          "name": "stdout",
          "text": [
            "x1:  1\n",
            "x2:  2\n",
            "type kwargs:  <class 'dict'>\n",
            "kwargs:  {'x3': 3, 'x4': 10, 'chick': 12, 'foo': 0, 'y': 8}\n"
          ]
        }
      ],
      "source": [
        "def bar(x1, x2, **kwargs):\n",
        "    print('x1: ', x1)\n",
        "    print('x2: ', x2)\n",
        "    print('type kwargs: ', type(kwargs))\n",
        "    print('kwargs: ', kwargs)\n",
        "    \n",
        "bar(1, 2, x3=3, x4=10, chick=12, foo=0, y=8)"
      ]
    },
    {
      "cell_type": "markdown",
      "metadata": {
        "id": "pPSiQF7khoe1"
      },
      "source": [
        "Другой способ использования  \\*\\*"
      ]
    },
    {
      "cell_type": "code",
      "execution_count": null,
      "metadata": {
        "id": "eCc01OkRhoe9",
        "outputId": "ba90fc6d-167c-4370-99d3-5d07395bc24e",
        "colab": {
          "base_uri": "https://localhost:8080/"
        }
      },
      "outputs": [
        {
          "output_type": "execute_result",
          "data": {
            "text/plain": [
              "30"
            ]
          },
          "metadata": {},
          "execution_count": 24
        }
      ],
      "source": [
        "def bar(x, y):\n",
        "    return x + y\n",
        "\n",
        "params = {'x': 10, 'y': 20}\n",
        "bar(**params)"
      ]
    }
  ]
}